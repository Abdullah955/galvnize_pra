{
 "cells": [
  {
   "cell_type": "markdown",
   "metadata": {},
   "source": [
    "# 1st question"
   ]
  },
  {
   "cell_type": "code",
   "execution_count": null,
   "metadata": {},
   "outputs": [],
   "source": [
    "pos_neg = function (number){\n",
    "    if ( number  > 0) {\n",
    "    print (\"positive\")\n",
    "    } else if ( number < 0) {\n",
    "    print (\"negative\")\n",
    "    } else {\n",
    "    print (\"Zero\")\n",
    "    }\n",
    "}\n"
   ]
  },
  {
   "cell_type": "code",
   "execution_count": null,
   "metadata": {},
   "outputs": [],
   "source": [
    "pos_neg(readline(prompt=\"Enter number: \"))"
   ]
  },
  {
   "cell_type": "markdown",
   "metadata": {},
   "source": [
    "# 2nd question\n",
    "Write a function that takes two user inputted numbers and prints \"The first number is larger\" or \"The second number is larger\" depending on which is larger. (**Hint**: you'll need to use `input()` twice.)\n"
   ]
  },
  {
   "cell_type": "code",
   "execution_count": 1,
   "metadata": {},
   "outputs": [],
   "source": [
    "which_is_larger = function(num1, num2)(\n",
    "    if (num1 > num2) {\n",
    "    return ('The first number is larger than the second.')\n",
    "    } \n",
    "    else if (num1 < num2) {\n",
    "    return ('The second number is larger than the first')\n",
    "    }\n",
    "    else {\n",
    "    return('The first number is equivalant to the first one')\n",
    "    }\n",
    ")"
   ]
  },
  {
   "cell_type": "markdown",
   "metadata": {},
   "source": [
    "# 3rd question"
   ]
  },
  {
   "cell_type": "code",
   "execution_count": null,
   "metadata": {},
   "outputs": [],
   "source": [
    "sum_fun = function (number){\n",
    "    return (sum(rev(seq(number))))\n",
    "}"
   ]
  },
  {
   "cell_type": "code",
   "execution_count": null,
   "metadata": {},
   "outputs": [],
   "source": [
    "sum_fun(as.integer(readline(prompt=\"Enter number: \")))"
   ]
  },
  {
   "cell_type": "markdown",
   "metadata": {},
   "source": [
    "# 4th question\n",
    "Write a function that computes the factorial of a user inputted number. If you don't know what a factorial is or need a review, check [this](https://en.wikipedia.org/wiki/Factorial) link out. Again, your solution is going to look a lot like the code above. Things you should think about:  \n",
    "    * What is the process of computing a factorial if you were to compute it by hand?  \n",
    "    * What is the common starting place when trying to compute the factorial of any number?<br><br>   \n"
   ]
  },
  {
   "cell_type": "code",
   "execution_count": null,
   "metadata": {},
   "outputs": [],
   "source": [
    "#easy way\n",
    "# fac = function(number){\n",
    "#   return (factorial(number))\n",
    "# }\n",
    "\n",
    "factorial = function(num) {\n",
    "    factorial = 1\n",
    "    # check is the number is negative, positive or zero\n",
    "    if(num < 0) {\n",
    "    return(\"Sorry, factorial does not exist for negative numbers\")\n",
    "    } else if(num == 0) {\n",
    "    return(\"The factorial of 0 is 1\")\n",
    "    } else {\n",
    "    for(i in 1:num) {\n",
    "    factorial = factorial * i\n",
    "    }\n",
    "    return(paste(\"The factorial of\", num ,\"is\",factorial))\n",
    "    }  \n",
    "}"
   ]
  },
  {
   "cell_type": "code",
   "execution_count": 30,
   "metadata": {},
   "outputs": [
    {
     "name": "stdin",
     "output_type": "stream",
     "text": [
      "Enter the number:  5\n"
     ]
    },
    {
     "data": {
      "text/html": [
       "'The factorial of 5 is 120'"
      ],
      "text/latex": [
       "'The factorial of 5 is 120'"
      ],
      "text/markdown": [
       "'The factorial of 5 is 120'"
      ],
      "text/plain": [
       "[1] \"The factorial of 5 is 120\""
      ]
     },
     "metadata": {},
     "output_type": "display_data"
    }
   ],
   "source": [
    "factorial(num = as.integer(readline(prompt=\"Enter the number: \")))"
   ]
  },
  {
   "cell_type": "markdown",
   "metadata": {},
   "source": [
    "# 5th question"
   ]
  },
  {
   "cell_type": "code",
   "execution_count": null,
   "metadata": {},
   "outputs": [],
   "source": [
    "divisor = function (number) {\n",
    "    nseq = seq(number)\n",
    "    for (num in nseq){\n",
    "        if (number %% num == 0){\n",
    "            print(num)\n",
    "        }\n",
    "    }\n",
    "}"
   ]
  },
  {
   "cell_type": "code",
   "execution_count": null,
   "metadata": {},
   "outputs": [],
   "source": [
    "divisor(as.integer(readline(prompt=\"Enter number: \")))"
   ]
  },
  {
   "cell_type": "markdown",
   "metadata": {},
   "source": [
    "# 7th qustion"
   ]
  },
  {
   "cell_type": "code",
   "execution_count": null,
   "metadata": {},
   "outputs": [],
   "source": [
    "##----------------------------------------\n",
    "## Q7\n",
    "divisor = function (number1,number2) {\n",
    "    nseq1 = seq(number1,1000,number1)\n",
    "    nseq2 = seq(number2,1000,number2)\n",
    "    for (num in nseq1){\n",
    "        if (num %in% nseq2 == T) {\n",
    "            print(num)\n",
    "            break;\n",
    "    }\n",
    "}\n",
    "}\n"
   ]
  },
  {
   "cell_type": "code",
   "execution_count": null,
   "metadata": {},
   "outputs": [],
   "source": [
    "divisor(as.integer(readline(prompt=\"Enter number1: \")),as.integer(readline(prompt=\"Enter number2: \")))"
   ]
  },
  {
   "cell_type": "markdown",
   "metadata": {},
   "source": [
    "# 6th question  \n",
    "Write a function that computes the greatest common divisor between two user inputted numbers. If you don't know what a greatest common divisor is, check out [this](https://en.wikipedia.org/wiki/Greatest_common_divisor) link. "
   ]
  },
  {
   "cell_type": "code",
   "execution_count": 50,
   "metadata": {},
   "outputs": [],
   "source": [
    "gcd = function(x, y) {\n",
    "    # choose the smaller number\n",
    "    if(x > y) {\n",
    "        smaller = y\n",
    "    } else {\n",
    "        smaller = x\n",
    "    }\n",
    "    for(i in 1:smaller) {\n",
    "        if((x %% i == 0) && (y %% i == 0)) {\n",
    "        hcf = i\n",
    "    }\n",
    "    }\n",
    "    return(hcf)\n",
    "}\n",
    "# take input from the user"
   ]
  },
  {
   "cell_type": "code",
   "execution_count": 52,
   "metadata": {},
   "outputs": [
    {
     "name": "stdin",
     "output_type": "stream",
     "text": [
      "Enter first number:  2\n",
      "Enter first number:  4\n"
     ]
    },
    {
     "data": {
      "text/html": [
       "2"
      ],
      "text/latex": [
       "2"
      ],
      "text/markdown": [
       "2"
      ],
      "text/plain": [
       "[1] 2"
      ]
     },
     "metadata": {},
     "output_type": "display_data"
    }
   ],
   "source": [
    "gcd(as.integer(readline(prompt = \"Enter first number: \")),\n",
    "   as.integer(readline(prompt = \"Enter first number: \")))"
   ]
  },
  {
   "cell_type": "markdown",
   "metadata": {},
   "source": [
    "# 8th question\n",
    "Write a function that determines whether or not a user inputted number is a prime number and prints `'The number you inputted is (not) a prime number.'` depending on what your script finds. If you don't know what a prime number is or need a review, check out [this](https://en.wikipedia.org/wiki/Prime_number) link. Things to think about:  \n",
    "    * How do you check if a number is divisible by another number?  \n",
    "    * What numbers are a prime number divisible by?  \n",
    "    * How do you check all of the numbers a number could be divisible by?  "
   ]
  },
  {
   "cell_type": "code",
   "execution_count": 8,
   "metadata": {},
   "outputs": [],
   "source": [
    "prime_func = function(num) {\n",
    "   if (num == 2) {\n",
    "      return (cat(num, 'is a prime number.'))\n",
    "   } else if (any(num %% 2:(num-1) == 0)) {\n",
    "      return ('The number you inputted is (not) a prime number.')\n",
    "   } else { \n",
    "      return (cat(num, 'is a prime number.'))\n",
    "   }\n",
    "}"
   ]
  },
  {
   "cell_type": "code",
   "execution_count": 11,
   "metadata": {},
   "outputs": [
    {
     "name": "stdin",
     "output_type": "stream",
     "text": [
      "Enter a number:  2\n"
     ]
    },
    {
     "name": "stdout",
     "output_type": "stream",
     "text": [
      "2 is a prime number."
     ]
    }
   ],
   "source": [
    "prime_func(as.integer(readline(prompt = \"Enter a number: \")))"
   ]
  },
  {
   "cell_type": "markdown",
   "metadata": {},
   "source": [
    "# 9th question"
   ]
  },
  {
   "cell_type": "code",
   "execution_count": null,
   "metadata": {},
   "outputs": [],
   "source": [
    "nth_elements = function (number) {\n",
    "   a <- c()\n",
    "      i <- 0\n",
    "      a=1\n",
    "      i <- i+1\n",
    "      while (i < 1000) {\n",
    "             a <- c(a, 2*a[i] + 1)\n",
    "  # OR\n",
    "  # vec_teamCodes <- append(vec_teamCodes,\"Hello\")\n",
    "        i <- i+1\n",
    "}\n",
    "      return (a[number+1])\n",
    "    }\n"
   ]
  },
  {
   "cell_type": "code",
   "execution_count": null,
   "metadata": {},
   "outputs": [],
   "source": [
    "nth_elements(as.integer(readline(prompt=\"Enter number: \")))"
   ]
  },
  {
   "cell_type": "code",
   "execution_count": null,
   "metadata": {},
   "outputs": [],
   "source": [
    "which_is_larger(num1 = as.integer(readline(prompt=\"Enter the first number: \")),\n",
    "                num2 = as.integer(readline(prompt=\"Enter the second number: \"))\n",
    ")"
   ]
  },
  {
   "cell_type": "markdown",
   "metadata": {},
   "source": [
    "# 10th question\n",
    "Challenge: solve the equation:\n",
    "    `(a + (b - c) * d - e) * f = 75`\n",
    "    where a, b, c, d, e, and f are unique integers in the range [1, 6].\n",
    "    Hints:  \n",
    "      - Computers are so fast that your program can simply try all possible valid values of a, b, c, d, e, and f until it finds one permutation of 1-6 that solves the challenge! (Btw, there is only *one* permutation that will solve it.)  \n",
    "      - Use 6 nested for-loops t"
   ]
  },
  {
   "cell_type": "code",
   "execution_count": null,
   "metadata": {},
   "outputs": [],
   "source": [
    "for (a in seq(6)){\n",
    "    for (b in seq(6)){\n",
    "        for (c in seq(6)){\n",
    "            for (d in seq(6)){\n",
    "                for (e in seq(6)){\n",
    "                    for (f in seq(6)){\n",
    "                        res = (a + (b - c) * d - e) * f\n",
    "                        if (res == 75){\n",
    "                            print (paste('a =', a,'|',\n",
    "                                         'b =', b,'|',\n",
    "                                         'c =', c,'|',\n",
    "                                         'd =', d,'|',\n",
    "                                         'e =', e,'|',\n",
    "                                         'f =', f,'|'))}\n",
    "                            }\n",
    "                        }\n",
    "                    }\n",
    "                }\n",
    "}\n",
    "}"
   ]
  }
 ],
 "metadata": {
  "kernelspec": {
   "display_name": "R",
   "language": "R",
   "name": "ir"
  },
  "language_info": {
   "codemirror_mode": "r",
   "file_extension": ".r",
   "mimetype": "text/x-r-source",
   "name": "R",
   "pygments_lexer": "r",
   "version": "3.6.1"
  }
 },
 "nbformat": 4,
 "nbformat_minor": 4
}
